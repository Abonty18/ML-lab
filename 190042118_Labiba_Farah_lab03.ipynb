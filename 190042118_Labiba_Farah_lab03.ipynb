{
  "cells": [
    {
      "cell_type": "markdown",
      "metadata": {
        "id": "view-in-github",
        "colab_type": "text"
      },
      "source": [
        "<a href=\"https://colab.research.google.com/github/Abonty18/ML-lab/blob/main/190042118_Labiba_Farah_lab03.ipynb\" target=\"_parent\"><img src=\"https://colab.research.google.com/assets/colab-badge.svg\" alt=\"Open In Colab\"/></a>"
      ]
    },
    {
      "cell_type": "markdown",
      "metadata": {
        "id": "mf_rWhT1f7c5"
      },
      "source": [
        "TASK1\n"
      ]
    },
    {
      "cell_type": "code",
      "execution_count": null,
      "metadata": {
        "id": "KwJTDO-PeoF7",
        "colab": {
          "base_uri": "https://localhost:8080/",
          "height": 206
        },
        "outputId": "840dd2a9-8b09-4d64-f318-05dc1785f813"
      },
      "outputs": [
        {
          "output_type": "execute_result",
          "data": {
            "text/plain": [
              "   Trans date  House age  Distance station  No of stores  Latitude  Longitude  \\\n",
              "0    2012.917       32.0          84.87882            10  24.98298  121.54024   \n",
              "1    2012.917       19.5         306.59470             9  24.98034  121.53951   \n",
              "2    2013.583       13.3         561.98450             5  24.98746  121.54391   \n",
              "3    2013.500       13.3         561.98450             5  24.98746  121.54391   \n",
              "4    2012.833        5.0         390.56840             5  24.97937  121.54245   \n",
              "\n",
              "   House Price  \n",
              "0         37.9  \n",
              "1         42.2  \n",
              "2         47.3  \n",
              "3         54.8  \n",
              "4         43.1  "
            ],
            "text/html": [
              "\n",
              "  <div id=\"df-650bc180-e94e-4698-a64d-b2ff7c0c209f\">\n",
              "    <div class=\"colab-df-container\">\n",
              "      <div>\n",
              "<style scoped>\n",
              "    .dataframe tbody tr th:only-of-type {\n",
              "        vertical-align: middle;\n",
              "    }\n",
              "\n",
              "    .dataframe tbody tr th {\n",
              "        vertical-align: top;\n",
              "    }\n",
              "\n",
              "    .dataframe thead th {\n",
              "        text-align: right;\n",
              "    }\n",
              "</style>\n",
              "<table border=\"1\" class=\"dataframe\">\n",
              "  <thead>\n",
              "    <tr style=\"text-align: right;\">\n",
              "      <th></th>\n",
              "      <th>Trans date</th>\n",
              "      <th>House age</th>\n",
              "      <th>Distance station</th>\n",
              "      <th>No of stores</th>\n",
              "      <th>Latitude</th>\n",
              "      <th>Longitude</th>\n",
              "      <th>House Price</th>\n",
              "    </tr>\n",
              "  </thead>\n",
              "  <tbody>\n",
              "    <tr>\n",
              "      <th>0</th>\n",
              "      <td>2012.917</td>\n",
              "      <td>32.0</td>\n",
              "      <td>84.87882</td>\n",
              "      <td>10</td>\n",
              "      <td>24.98298</td>\n",
              "      <td>121.54024</td>\n",
              "      <td>37.9</td>\n",
              "    </tr>\n",
              "    <tr>\n",
              "      <th>1</th>\n",
              "      <td>2012.917</td>\n",
              "      <td>19.5</td>\n",
              "      <td>306.59470</td>\n",
              "      <td>9</td>\n",
              "      <td>24.98034</td>\n",
              "      <td>121.53951</td>\n",
              "      <td>42.2</td>\n",
              "    </tr>\n",
              "    <tr>\n",
              "      <th>2</th>\n",
              "      <td>2013.583</td>\n",
              "      <td>13.3</td>\n",
              "      <td>561.98450</td>\n",
              "      <td>5</td>\n",
              "      <td>24.98746</td>\n",
              "      <td>121.54391</td>\n",
              "      <td>47.3</td>\n",
              "    </tr>\n",
              "    <tr>\n",
              "      <th>3</th>\n",
              "      <td>2013.500</td>\n",
              "      <td>13.3</td>\n",
              "      <td>561.98450</td>\n",
              "      <td>5</td>\n",
              "      <td>24.98746</td>\n",
              "      <td>121.54391</td>\n",
              "      <td>54.8</td>\n",
              "    </tr>\n",
              "    <tr>\n",
              "      <th>4</th>\n",
              "      <td>2012.833</td>\n",
              "      <td>5.0</td>\n",
              "      <td>390.56840</td>\n",
              "      <td>5</td>\n",
              "      <td>24.97937</td>\n",
              "      <td>121.54245</td>\n",
              "      <td>43.1</td>\n",
              "    </tr>\n",
              "  </tbody>\n",
              "</table>\n",
              "</div>\n",
              "      <button class=\"colab-df-convert\" onclick=\"convertToInteractive('df-650bc180-e94e-4698-a64d-b2ff7c0c209f')\"\n",
              "              title=\"Convert this dataframe to an interactive table.\"\n",
              "              style=\"display:none;\">\n",
              "        \n",
              "  <svg xmlns=\"http://www.w3.org/2000/svg\" height=\"24px\"viewBox=\"0 0 24 24\"\n",
              "       width=\"24px\">\n",
              "    <path d=\"M0 0h24v24H0V0z\" fill=\"none\"/>\n",
              "    <path d=\"M18.56 5.44l.94 2.06.94-2.06 2.06-.94-2.06-.94-.94-2.06-.94 2.06-2.06.94zm-11 1L8.5 8.5l.94-2.06 2.06-.94-2.06-.94L8.5 2.5l-.94 2.06-2.06.94zm10 10l.94 2.06.94-2.06 2.06-.94-2.06-.94-.94-2.06-.94 2.06-2.06.94z\"/><path d=\"M17.41 7.96l-1.37-1.37c-.4-.4-.92-.59-1.43-.59-.52 0-1.04.2-1.43.59L10.3 9.45l-7.72 7.72c-.78.78-.78 2.05 0 2.83L4 21.41c.39.39.9.59 1.41.59.51 0 1.02-.2 1.41-.59l7.78-7.78 2.81-2.81c.8-.78.8-2.07 0-2.86zM5.41 20L4 18.59l7.72-7.72 1.47 1.35L5.41 20z\"/>\n",
              "  </svg>\n",
              "      </button>\n",
              "      \n",
              "  <style>\n",
              "    .colab-df-container {\n",
              "      display:flex;\n",
              "      flex-wrap:wrap;\n",
              "      gap: 12px;\n",
              "    }\n",
              "\n",
              "    .colab-df-convert {\n",
              "      background-color: #E8F0FE;\n",
              "      border: none;\n",
              "      border-radius: 50%;\n",
              "      cursor: pointer;\n",
              "      display: none;\n",
              "      fill: #1967D2;\n",
              "      height: 32px;\n",
              "      padding: 0 0 0 0;\n",
              "      width: 32px;\n",
              "    }\n",
              "\n",
              "    .colab-df-convert:hover {\n",
              "      background-color: #E2EBFA;\n",
              "      box-shadow: 0px 1px 2px rgba(60, 64, 67, 0.3), 0px 1px 3px 1px rgba(60, 64, 67, 0.15);\n",
              "      fill: #174EA6;\n",
              "    }\n",
              "\n",
              "    [theme=dark] .colab-df-convert {\n",
              "      background-color: #3B4455;\n",
              "      fill: #D2E3FC;\n",
              "    }\n",
              "\n",
              "    [theme=dark] .colab-df-convert:hover {\n",
              "      background-color: #434B5C;\n",
              "      box-shadow: 0px 1px 3px 1px rgba(0, 0, 0, 0.15);\n",
              "      filter: drop-shadow(0px 1px 2px rgba(0, 0, 0, 0.3));\n",
              "      fill: #FFFFFF;\n",
              "    }\n",
              "  </style>\n",
              "\n",
              "      <script>\n",
              "        const buttonEl =\n",
              "          document.querySelector('#df-650bc180-e94e-4698-a64d-b2ff7c0c209f button.colab-df-convert');\n",
              "        buttonEl.style.display =\n",
              "          google.colab.kernel.accessAllowed ? 'block' : 'none';\n",
              "\n",
              "        async function convertToInteractive(key) {\n",
              "          const element = document.querySelector('#df-650bc180-e94e-4698-a64d-b2ff7c0c209f');\n",
              "          const dataTable =\n",
              "            await google.colab.kernel.invokeFunction('convertToInteractive',\n",
              "                                                     [key], {});\n",
              "          if (!dataTable) return;\n",
              "\n",
              "          const docLinkHtml = 'Like what you see? Visit the ' +\n",
              "            '<a target=\"_blank\" href=https://colab.research.google.com/notebooks/data_table.ipynb>data table notebook</a>'\n",
              "            + ' to learn more about interactive tables.';\n",
              "          element.innerHTML = '';\n",
              "          dataTable['output_type'] = 'display_data';\n",
              "          await google.colab.output.renderOutput(dataTable, element);\n",
              "          const docLink = document.createElement('div');\n",
              "          docLink.innerHTML = docLinkHtml;\n",
              "          element.appendChild(docLink);\n",
              "        }\n",
              "      </script>\n",
              "    </div>\n",
              "  </div>\n",
              "  "
            ]
          },
          "metadata": {},
          "execution_count": 1
        }
      ],
      "source": [
        "import numpy as np\n",
        "import matplotlib.pyplot as plt\n",
        "import pandas as pd\n",
        "import seaborn as sns\n",
        "\n",
        "\n",
        "%matplotlib inline\n",
        "## Import the dataset\n",
        "\n",
        "data = pd.read_csv('/content/Real_estate.csv')\n",
        "data.head()"
      ]
    },
    {
      "cell_type": "code",
      "execution_count": null,
      "metadata": {
        "id": "cV3MIwZXe9eX",
        "colab": {
          "base_uri": "https://localhost:8080/",
          "height": 636
        },
        "outputId": "7d6d0af8-5c5c-4ca8-e184-fb8acbf59016"
      },
      "outputs": [
        {
          "output_type": "stream",
          "name": "stdout",
          "text": [
            "                  Trans date  House age  Distance station  No of stores  \\\n",
            "Trans date          1.000000   0.017549          0.060880      0.009635   \n",
            "House age           0.017549   1.000000          0.025622      0.049593   \n",
            "Distance station    0.060880   0.025622          1.000000     -0.602519   \n",
            "No of stores        0.009635   0.049593         -0.602519      1.000000   \n",
            "Latitude            0.035058   0.054420         -0.591067      0.444143   \n",
            "Longitude          -0.041082  -0.048520         -0.806317      0.449099   \n",
            "House Price         0.087491  -0.210567         -0.673613      0.571005   \n",
            "\n",
            "                  Latitude  Longitude  House Price  \n",
            "Trans date        0.035058  -0.041082     0.087491  \n",
            "House age         0.054420  -0.048520    -0.210567  \n",
            "Distance station -0.591067  -0.806317    -0.673613  \n",
            "No of stores      0.444143   0.449099     0.571005  \n",
            "Latitude          1.000000   0.412924     0.546307  \n",
            "Longitude         0.412924   1.000000     0.523287  \n",
            "House Price       0.546307   0.523287     1.000000  \n"
          ]
        },
        {
          "output_type": "display_data",
          "data": {
            "text/plain": [
              "<Figure size 432x288 with 2 Axes>"
            ],
            "image/png": "[encoded data removed]"
          },
          "metadata": {
            "needs_background": "light"
          }
        }
      ],
      "source": [
        "# correlations = data.corr()\n",
        "print(data.corr())\n",
        "  \n",
        "# plotting correlation heatmap\n",
        "dataplot = sns.heatmap(data.corr(),  annot=True)\n",
        "  \n",
        "# displaying heatmap\n",
        "plt.show()"
      ]
    },
    {
      "cell_type": "markdown",
      "metadata": {
        "id": "3cXlFu3-g-LP"
      },
      "source": [
        "TASK2"
      ]
    },
    {
      "cell_type": "code",
      "execution_count": null,
      "metadata": {
        "id": "7dC7SoaKg9LR",
        "colab": {
          "base_uri": "https://localhost:8080/",
          "height": 295
        },
        "outputId": "0c96f0dd-9a98-42ef-8cf2-4a31a2894eb4"
      },
      "outputs": [
        {
          "output_type": "display_data",
          "data": {
            "text/plain": [
              "<Figure size 432x288 with 1 Axes>"
            ],
            "image/png": "[encoded data removed]"
          },
          "metadata": {
            "needs_background": "light"
          }
        }
      ],
      "source": [
        "x = data['Distance station'].values.reshape(-1, 1)\n",
        "y = data['Longitude'].values.reshape(-1, 1)\n",
        "\n",
        "plt.scatter(x, y)\n",
        "plt.rcParams.update({'figure.figsize':(10,8), 'figure.dpi':80})\n",
        "plt.title('Simple Scatter plot')\n",
        "plt.xlabel('Distance station')\n",
        "plt.ylabel('Longitude')\n",
        "plt.show()"
      ]
    },
    {
      "cell_type": "markdown",
      "metadata": {
        "id": "2xKa4nVwjpyc"
      },
      "source": [
        "TASK3\n"
      ]
    },
    {
      "cell_type": "code",
      "execution_count": null,
      "metadata": {
        "id": "Idy_WtZrjtmj"
      },
      "outputs": [],
      "source": [
        "from sklearn import tree\n",
        "from sklearn.model_selection import train_test_split\n",
        "from sklearn.tree import DecisionTreeRegressor\n",
        "# features = ['Distance station']\n",
        "# X = data.loc[:, features]\n",
        "# y = data.loc[:, ['Longitude']]\n",
        "X_train, X_test, y_train, y_test = train_test_split(x, y, random_state=0, train_size = .80)\n",
        "print(X_train) \n",
        "print(y_train) \n",
        "\n"
      ]
    },
    {
      "cell_type": "code",
      "execution_count": null,
      "metadata": {
        "id": "_jRPQg07qiy5",
        "colab": {
          "base_uri": "https://localhost:8080/"
        },
        "outputId": "dcd04c3a-65de-4749-d0d0-9d8abae7e259"
      },
      "outputs": [
        {
          "output_type": "stream",
          "name": "stdout",
          "text": [
            "[121.54386963]\n"
          ]
        }
      ],
      "source": [
        "from sklearn.linear_model import LinearRegression\n",
        "regressor = LinearRegression()\n",
        "regressor.fit(X_train, y_train)\n",
        "print(regressor.intercept_)"
      ]
    },
    {
      "cell_type": "code",
      "execution_count": null,
      "metadata": {
        "id": "AjGWW2-FrR9W",
        "colab": {
          "base_uri": "https://localhost:8080/"
        },
        "outputId": "a40bdb03-ff1a-4fc6-8af7-51179c2ec837"
      },
      "outputs": [
        {
          "output_type": "stream",
          "name": "stdout",
          "text": [
            "[[-9.76005077e-06]]\n"
          ]
        }
      ],
      "source": [
        "print(regressor.coef_)"
      ]
    },
    {
      "cell_type": "markdown",
      "metadata": {
        "id": "gvzidni4qiZr"
      },
      "source": [
        "TASK4"
      ]
    },
    {
      "cell_type": "code",
      "execution_count": null,
      "metadata": {
        "id": "BXgXW5DYsGDi",
        "colab": {
          "base_uri": "https://localhost:8080/"
        },
        "outputId": "39bfaeb3-0a57-4d4a-f60c-da06ef400cd4"
      },
      "outputs": [
        {
          "output_type": "stream",
          "name": "stdout",
          "text": [
            "[[121.5437769]]\n",
            "       Actual   Predicted\n",
            "0   121.52999  121.541806\n",
            "1   121.49628  121.499679\n",
            "2   121.54170  121.540698\n",
            "3   121.49587  121.499757\n",
            "4   121.52979  121.542211\n",
            "..        ...         ...\n",
            "78  121.54348  121.541046\n",
            "79  121.53411  121.534454\n",
            "80  121.54228  121.541063\n",
            "81  121.54842  121.530595\n",
            "82  121.53805  121.539339\n",
            "\n",
            "[83 rows x 2 columns]\n",
            "Mean absolute error: 0.006126\n",
            "Mean squared error: 0.000088\n",
            "Root mean squared error: 0.009363\n",
            "R2 score : 0.646952\n"
          ]
        }
      ],
      "source": [
        "from sklearn.metrics import mean_absolute_error, mean_squared_error\n",
        "from sklearn.metrics import r2_score\n",
        "score = regressor.predict([[9.5]])\n",
        "print(score)\n",
        "y_pred = regressor.predict(X_test)\n",
        "df_preds = pd.DataFrame({'Actual': y_test.squeeze(), 'Predicted': y_pred.squeeze()})\n",
        "print(df_preds)\n",
        "mae = mean_absolute_error(y_test, y_pred)\n",
        "mse = mean_squared_error(y_test, y_pred)\n",
        "rmse = np.sqrt(mse)\n",
        "print(f'Mean absolute error: {mae:f}')\n",
        "print(f'Mean squared error: {mse:f}')\n",
        "print(f'Root mean squared error: {rmse:f}')\n",
        "print(\"R2 score : %f\" % r2_score(y_test,y_pred))\n"
      ]
    },
    {
      "cell_type": "markdown",
      "metadata": {
        "id": "me6unU11vZlK"
      },
      "source": [
        "TASK5"
      ]
    },
    {
      "cell_type": "code",
      "execution_count": null,
      "metadata": {
        "id": "TdDhCw4vva7X",
        "colab": {
          "base_uri": "https://localhost:8080/",
          "height": 550
        },
        "outputId": "118033b0-7c97-4207-d70f-10c7a5aa03dd"
      },
      "outputs": [
        {
          "output_type": "execute_result",
          "data": {
            "text/plain": [
              "<matplotlib.collections.LineCollection at 0x7f6415f39d10>"
            ]
          },
          "metadata": {},
          "execution_count": 8
        },
        {
          "output_type": "display_data",
          "data": {
            "text/plain": [
              "<Figure size 800x640 with 1 Axes>"
            ],
            "image/png": "[encoded data removed]"
          },
          "metadata": {
            "needs_background": "light"
          }
        }
      ],
      "source": [
        "plt.scatter(X_test, y_test, color = 'red')\n",
        "plt.plot(X_test, y_pred, color = 'blue')\n",
        "plt.vlines(X_test,y_pred,y_test,color='gray')"
      ]
    },
    {
      "cell_type": "markdown",
      "source": [
        "TASK6"
      ],
      "metadata": {
        "id": "730YV8a_fl9H"
      }
    },
    {
      "cell_type": "code",
      "source": [
        "from sklearn.metrics import mean_squared_error\n",
        "SSxy=sum(X_train*y_train)-len(X_train)*X_train.mean()*y_train.mean()\n",
        "SSxx=sum(np.square(X_train))-len(X_train)*((X_train.mean())**2)\n",
        "B1=SSxy/SSxx\n",
        "B0=y_train.mean()-B1*X_train.mean()\n",
        "print(B1)\n",
        "print(B0)\n",
        "regressor = LinearRegression()\n",
        "regressor.fit(X_train,y_train)\n",
        "r2_score = regressor.score(X_test,y_test)\n",
        "print(r2_score*100,'%')\n",
        "  "
      ],
      "metadata": {
        "id": "wXFTDFRifnae",
        "colab": {
          "base_uri": "https://localhost:8080/"
        },
        "outputId": "19630bcd-04f9-4a63-d40c-93567010d668"
      },
      "execution_count": null,
      "outputs": [
        {
          "output_type": "stream",
          "name": "stdout",
          "text": [
            "[-9.76005077e-06]\n",
            "[121.54386963]\n",
            "64.69524677897944 %\n"
          ]
        }
      ]
    },
    {
      "cell_type": "code",
      "source": [
        "plt.scatter(X_test, y_test,  color='red')\n",
        "plt.title('Test Data')\n",
        "plt.xlabel('Size')\n",
        "plt.ylabel('Price')\n",
        "plt.xticks(())\n",
        "plt.yticks(())\n",
        "regr = LinearRegression()\n",
        "\n",
        "# Train the model using the training sets\n",
        "regr.fit(X_train, y_train)\n",
        "\n",
        "# Plot outputs\n",
        "plt.plot(X_test, regr.predict(X_test))\n",
        "\n",
        "plt.show()\n"
      ],
      "metadata": {
        "id": "axNxlaJ51aKt",
        "colab": {
          "base_uri": "https://localhost:8080/",
          "height": 547
        },
        "outputId": "afc087e4-dc34-46b6-d004-582355c6572a"
      },
      "execution_count": null,
      "outputs": [
        {
          "output_type": "display_data",
          "data": {
            "text/plain": [
              "<Figure size 800x640 with 1 Axes>"
            ],
            "image/png": "[encoded data removed]"
          },
          "metadata": {}
        }
      ]
    },
    {
      "cell_type": "markdown",
      "source": [
        "TASK7"
      ],
      "metadata": {
        "id": "Crjq7xitr6gO"
      }
    },
    {
      "cell_type": "code",
      "source": [
        "X_train_all, X_test_all, y_train_all, y_test_all = train_test_split(data.loc[:, data.columns != 'House Price'], data['House Price'], test_size=0.2, random_state=190042118)\n",
        "\n",
        "regression = LinearRegression().fit(X_train_all, y_train_all)\n",
        "prediction = regression.predict(X_test_all)\n",
        "\n",
        "print(regression.coef_)\n",
        "print(regression.intercept_)\n",
        "\n",
        "MAE = mean_absolute_error(y_test_all, prediction)\n",
        "MSE = mean_squared_error(y_test_all, prediction)\n",
        "\n",
        "print(MAE)\n",
        "print(MSE)"
      ],
      "metadata": {
        "colab": {
          "base_uri": "https://localhost:8080/"
        },
        "id": "UY9riTfMCEs8",
        "outputId": "b4745ed3-8b3a-476a-9edf-38df65993729"
      },
      "execution_count": null,
      "outputs": [
        {
          "output_type": "stream",
          "name": "stdout",
          "text": [
            "[ 4.83718508e+00 -2.98134825e-01 -4.45194895e-03  1.02269987e+00\n",
            "  2.54027950e+02 -1.76343486e+01]\n",
            "-13894.10293495513\n",
            "6.511241501317601\n",
            "83.98135652368333\n"
          ]
        }
      ]
    },
    {
      "cell_type": "markdown",
      "source": [
        "TASK8"
      ],
      "metadata": {
        "id": "d7ZPv_YOc0z9"
      }
    },
    {
      "cell_type": "code",
      "source": [
        "regression = np.polyfit(X_train, y_train,deg=1)\n",
        "prediction = np.polyval(regression, X_test)\n",
        "\n",
        "b_0 = regression[0]\n",
        "b_1 = regression[1]\n",
        "\n",
        "plt.scatter(X_test, y_test, marker='x')\n",
        "plt.plot(X_test, prediction, color='Red')\n",
        "\n",
        "print(b_0, b_1)"
      ],
      "metadata": {
        "id": "tbtk-hs1Fu4N"
      },
      "execution_count": null,
      "outputs": []
    },
    {
      "cell_type": "markdown",
      "source": [
        "TASK9\n"
      ],
      "metadata": {
        "id": "30yOheMsDkov"
      }
    },
    {
      "cell_type": "code",
      "source": [
        "def calculate_errors(X, Y):\n",
        "  X_train, X_test, y_train, y_test = train_test_split(x, y, random_state=0, train_size = .80)\n",
        "  regression = LinearRegression().fit(np.reshape(X_train.to_numpy(), (-1, 1)), y_train)\n",
        "  prediction = regression.predict(np.reshape(X_test.to_numpy(), (-1, 1)))\n",
        "  MAE = round(mean_absolute_error(y_test, prediction), 8)\n",
        "  MSE = round(mean_squared_error(y_test, prediction), 8)\n",
        "  R2 = round(r2_score(y_test, prediction), 8)\n",
        "  return np.array([[MAE], [MSE], [R2]])\n",
        "\n",
        "df = np.array([['MSE'], ['MAE'], ['R2']])\n",
        "df = np.append(df, calculate_errors(data['Distance station'], data['Longitude']), axis=1)\n",
        "df = np.append(df, calculate_errors(data['Distance station'], data['House Price']), axis=1)\n",
        "df = np.append(df, calculate_errors(data['No of stores'], data['House Price']), axis=1)\n",
        "df = np.append(df, calculate_errors(data['Distance station'], data['Latitude']), axis=1)\n",
        "df = np.append(df, calculate_errors(data['House age'], data['Longitude']), axis=1)\n",
        "df = np.append(df, calculate_errors(data['House age'], data['No of stores']), axis=1)\n",
        "\n",
        "\n",
        "pd.DataFrame(data, columns=['Type', 'Dist-Long', 'Dist-HouseP', 'NoStores-HPrice', 'Dist-Lat', 'HAge-Long', 'HAge-NoStores'])\n",
        "\n"
      ],
      "metadata": {
        "id": "DCtmJRXXFpll"
      },
      "execution_count": null,
      "outputs": []
    },
    {
      "cell_type": "markdown",
      "source": [
        "TASK 10"
      ],
      "metadata": {
        "id": "CystUzr1E2De"
      }
    },
    {
      "cell_type": "code",
      "source": [
        "b1 = 0.0\n",
        "b0 = 100.0\n",
        "alpha = 1\n",
        "for x, y in zip(X_train, y_train):\n",
        "  predicted_y = b0 + b1*x\n",
        "  error = predicted_y - y\n",
        "  b0 = b0 - alpha*error\n",
        "  b1 = b1 - alpha*error\n",
        "  print(b0, b1)"
      ],
      "metadata": {
        "colab": {
          "base_uri": "https://localhost:8080/"
        },
        "id": "ZbAlP4V9E40F",
        "outputId": "25768e7e-c963-48a7-f590-a305d6db32e2"
      },
      "execution_count": null,
      "outputs": [
        {
          "output_type": "stream",
          "name": "stdout",
          "text": [
            "[121.51359] [21.51359]\n",
            "[-48840.77315843] [-48940.77315843]\n",
            "[21519893.37010983] [21519793.37010983]\n",
            "[-1.37857323e+10] [-1.37857324e+10]\n",
            "[1.6058145e+13] [1.6058145e+13]\n",
            "[-6.22690059e+15] [-6.22690059e+15]\n",
            "[1.20543144e+18] [1.20543144e+18]\n",
            "[-2.23522669e+20] [-2.23522669e+20]\n",
            "[8.79026591e+22] [8.79026591e+22]\n",
            "[-1.19559835e+26] [-1.19559835e+26]\n",
            "[1.19052351e+29] [1.19052351e+29]\n",
            "[-1.38175968e+32] [-1.38175968e+32]\n",
            "[5.86851577e+34] [5.86851577e+34]\n",
            "[-1.00506079e+38] [-1.00506079e+38]\n",
            "[3.91794707e+40] [3.91794707e+40]\n",
            "[-1.59326726e+44] [-1.59326726e+44]\n",
            "[1.01908529e+47] [1.01908529e+47]\n",
            "[-1.88968577e+49] [-1.88968577e+49]\n",
            "[9.30162484e+51] [9.30162484e+51]\n",
            "[-3.46601051e+54] [-3.46601051e+54]\n",
            "[3.35301857e+57] [3.35301857e+57]\n",
            "[-6.28631634e+59] [-6.28631634e+59]\n",
            "[8.55026402e+62] [8.55026402e+62]\n",
            "[-3.17428124e+65] [-3.17428124e+65]\n",
            "[1.74967588e+69] [1.74967588e+69]\n",
            "[-5.57322859e+71] [-5.57322859e+71]\n",
            "[2.27500027e+75] [2.27500027e+75]\n",
            "[-8.88543216e+77] [-8.88543216e+77]\n",
            "[3.50101399e+80] [3.50101399e+80]\n",
            "[-6.92735485e+83] [-6.92735485e+83]\n",
            "[5.65224634e+86] [5.65224634e+86]\n",
            "[-1.07120299e+89] [-1.07120299e+89]\n",
            "[2.00018557e+92] [2.00018557e+92]\n",
            "[-1.0670514e+95] [-1.0670514e+95]\n",
            "[1.68172849e+97] [1.68172849e+97]\n",
            "[-8.6627886e+99] [-8.6627886e+99]\n",
            "[1.88813274e+103] [1.88813274e+103]\n",
            "[-4.05453093e+106] [-4.05453093e+106]\n",
            "[1.53178395e+109] [1.53178395e+109]\n",
            "[-2.08343908e+112] [-2.08343908e+112]\n",
            "[2.01551897e+115] [2.01551897e+115]\n",
            "[-1.82315905e+117] [-1.82315905e+117]\n",
            "[6.11719633e+119] [6.11719633e+119]\n",
            "[-5.53337479e+121] [-5.53337479e+121]\n",
            "[2.74793202e+123] [2.74793202e+123]\n",
            "[-1.08486845e+127] [-1.08486845e+127]\n",
            "[3.61660316e+129] [3.61660316e+129]\n",
            "[-2.71270698e+132] [-2.71270698e+132]\n",
            "[1.02962828e+135] [1.02962828e+135]\n",
            "[-9.31361174e+136] [-9.31361174e+136]\n",
            "[2.30013147e+140] [2.30013147e+140]\n",
            "[-3.93927875e+143] [-3.93927875e+143]\n",
            "[1.48585458e+147] [1.48585458e+147]\n",
            "[-8.73515634e+149] [-8.73515634e+149]\n",
            "[7.12728834e+152] [7.12728834e+152]\n",
            "[-2.70521574e+155] [-2.70521574e+155]\n",
            "[5.23687837e+157] [5.23687837e+157]\n",
            "[-2.57775545e+160] [-2.57775545e+160]\n",
            "[1.21715039e+163] [1.21715039e+163]\n",
            "[-3.52151793e+165] [-3.52151793e+165]\n",
            "[5.99111972e+167] [5.99111972e+167]\n",
            "[-2.26362596e+170] [-2.26362596e+170]\n",
            "[3.28162836e+173] [3.28162836e+173]\n",
            "[-1.08285433e+176] [-1.08285433e+176]\n",
            "[3.79921067e+178] [3.79921067e+178]\n",
            "[-7.04486115e+180] [-7.04486115e+180]\n",
            "[2.70425731e+183] [2.70425731e+183]\n",
            "[-1.33112009e+186] [-1.33112009e+186]\n",
            "[6.01625016e+189] [6.01625016e+189]\n",
            "[-8.65367196e+191] [-8.65367196e+191]\n",
            "[4.76993687e+195] [4.76993687e+195]\n",
            "[-9.94009528e+197] [-9.94009528e+197]\n",
            "[7.03666005e+200] [7.03666005e+200]\n",
            "[-1.1395308e+203] [-1.1395308e+203]\n",
            "[4.65158183e+206] [4.65158183e+206]\n",
            "[-2.97528338e+210] [-2.97528338e+210]\n",
            "[1.67593369e+213] [1.67593369e+213]\n",
            "[-8.24947017e+215] [-8.24947017e+215]\n",
            "[1.98729159e+219] [1.98729159e+219]\n",
            "[-4.1781355e+222] [-4.1781355e+222]\n",
            "[1.84371301e+226] [1.84371301e+226]\n",
            "[-7.2009604e+228] [-7.2009604e+228]\n",
            "[3.32037436e+231] [3.32037436e+231]\n",
            "[-2.67187105e+234] [-2.67187105e+234]\n",
            "[2.66053002e+237] [2.66053002e+237]\n",
            "[-1.43082533e+240] [-1.43082533e+240]\n",
            "[5.48407448e+242] [5.48407448e+242]\n",
            "[-2.04771886e+245] [-2.04771886e+245]\n",
            "[6.62754448e+247] [6.62754448e+247]\n",
            "[-1.28557728e+251] [-1.28557728e+251]\n",
            "[5.22791185e+254] [5.22791185e+254]\n",
            "[-1.07364057e+257] [-1.07364057e+257]\n",
            "[1.24157084e+260] [1.24157084e+260]\n",
            "[-7.6659848e+262] [-7.6659848e+262]\n",
            "[2.59852277e+265] [2.59852277e+265]\n",
            "[-6.74734242e+267] [-6.74734242e+267]\n",
            "[2.22719922e+270] [2.22719922e+270]\n",
            "[-8.95068382e+272] [-8.95068382e+272]\n",
            "[1.57210795e+276] [1.57210795e+276]\n",
            "[-4.54849819e+278] [-4.54849819e+278]\n",
            "[5.95828246e+280] [5.95828246e+280]\n",
            "[-6.2863872e+283] [-6.2863872e+283]\n",
            "[2.56153682e+287] [2.56153682e+287]\n",
            "[-1.5177121e+290] [-1.5177121e+290]\n",
            "[1.14248344e+293] [1.14248344e+293]\n",
            "[-5.30069242e+295] [-5.30069242e+295]\n",
            "[1.11502981e+299] [1.11502981e+299]\n",
            "[-3.22605775e+301] [-3.22605775e+301]\n",
            "[8.08550081e+303] [8.08550081e+303]\n",
            "[-3.30051356e+307] [-3.30051356e+307]\n",
            "[inf] [inf]\n",
            "[nan] [nan]\n",
            "[nan] [nan]\n",
            "[nan] [nan]\n",
            "[nan] [nan]\n",
            "[nan] [nan]\n",
            "[nan] [nan]\n",
            "[nan] [nan]\n",
            "[nan] [nan]\n",
            "[nan] [nan]\n",
            "[nan] [nan]\n",
            "[nan] [nan]\n",
            "[nan] [nan]\n",
            "[nan] [nan]\n",
            "[nan] [nan]\n",
            "[nan] [nan]\n",
            "[nan] [nan]\n",
            "[nan] [nan]\n",
            "[nan] [nan]\n",
            "[nan] [nan]\n",
            "[nan] [nan]\n",
            "[nan] [nan]\n",
            "[nan] [nan]\n",
            "[nan] [nan]\n",
            "[nan] [nan]\n",
            "[nan] [nan]\n",
            "[nan] [nan]\n",
            "[nan] [nan]\n",
            "[nan] [nan]\n",
            "[nan] [nan]\n",
            "[nan] [nan]\n",
            "[nan] [nan]\n",
            "[nan] [nan]\n",
            "[nan] [nan]\n",
            "[nan] [nan]\n",
            "[nan] [nan]\n",
            "[nan] [nan]\n",
            "[nan] [nan]\n",
            "[nan] [nan]\n",
            "[nan] [nan]\n",
            "[nan] [nan]\n",
            "[nan] [nan]\n",
            "[nan] [nan]\n",
            "[nan] [nan]\n",
            "[nan] [nan]\n",
            "[nan] [nan]\n",
            "[nan] [nan]\n",
            "[nan] [nan]\n",
            "[nan] [nan]\n",
            "[nan] [nan]\n",
            "[nan] [nan]\n",
            "[nan] [nan]\n",
            "[nan] [nan]\n",
            "[nan] [nan]\n",
            "[nan] [nan]\n",
            "[nan] [nan]\n",
            "[nan] [nan]\n",
            "[nan] [nan]\n",
            "[nan] [nan]\n",
            "[nan] [nan]\n",
            "[nan] [nan]\n",
            "[nan] [nan]\n",
            "[nan] [nan]\n",
            "[nan] [nan]\n",
            "[nan] [nan]\n",
            "[nan] [nan]\n",
            "[nan] [nan]\n",
            "[nan] [nan]\n",
            "[nan] [nan]\n",
            "[nan] [nan]\n",
            "[nan] [nan]\n",
            "[nan] [nan]\n",
            "[nan] [nan]\n",
            "[nan] [nan]\n",
            "[nan] [nan]\n",
            "[nan] [nan]\n",
            "[nan] [nan]\n",
            "[nan] [nan]\n",
            "[nan] [nan]\n",
            "[nan] [nan]\n",
            "[nan] [nan]\n",
            "[nan] [nan]\n",
            "[nan] [nan]\n",
            "[nan] [nan]\n",
            "[nan] [nan]\n",
            "[nan] [nan]\n",
            "[nan] [nan]\n",
            "[nan] [nan]\n",
            "[nan] [nan]\n",
            "[nan] [nan]\n",
            "[nan] [nan]\n",
            "[nan] [nan]\n",
            "[nan] [nan]\n",
            "[nan] [nan]\n",
            "[nan] [nan]\n",
            "[nan] [nan]\n",
            "[nan] [nan]\n",
            "[nan] [nan]\n",
            "[nan] [nan]\n",
            "[nan] [nan]\n",
            "[nan] [nan]\n",
            "[nan] [nan]\n",
            "[nan] [nan]\n",
            "[nan] [nan]\n",
            "[nan] [nan]\n",
            "[nan] [nan]\n",
            "[nan] [nan]\n",
            "[nan] [nan]\n",
            "[nan] [nan]\n",
            "[nan] [nan]\n",
            "[nan] [nan]\n",
            "[nan] [nan]\n",
            "[nan] [nan]\n",
            "[nan] [nan]\n",
            "[nan] [nan]\n",
            "[nan] [nan]\n",
            "[nan] [nan]\n",
            "[nan] [nan]\n",
            "[nan] [nan]\n",
            "[nan] [nan]\n",
            "[nan] [nan]\n",
            "[nan] [nan]\n",
            "[nan] [nan]\n",
            "[nan] [nan]\n",
            "[nan] [nan]\n",
            "[nan] [nan]\n",
            "[nan] [nan]\n",
            "[nan] [nan]\n",
            "[nan] [nan]\n",
            "[nan] [nan]\n",
            "[nan] [nan]\n",
            "[nan] [nan]\n",
            "[nan] [nan]\n",
            "[nan] [nan]\n",
            "[nan] [nan]\n",
            "[nan] [nan]\n",
            "[nan] [nan]\n",
            "[nan] [nan]\n",
            "[nan] [nan]\n",
            "[nan] [nan]\n",
            "[nan] [nan]\n",
            "[nan] [nan]\n",
            "[nan] [nan]\n",
            "[nan] [nan]\n",
            "[nan] [nan]\n",
            "[nan] [nan]\n",
            "[nan] [nan]\n",
            "[nan] [nan]\n",
            "[nan] [nan]\n",
            "[nan] [nan]\n",
            "[nan] [nan]\n",
            "[nan] [nan]\n",
            "[nan] [nan]\n",
            "[nan] [nan]\n",
            "[nan] [nan]\n",
            "[nan] [nan]\n",
            "[nan] [nan]\n",
            "[nan] [nan]\n",
            "[nan] [nan]\n",
            "[nan] [nan]\n",
            "[nan] [nan]\n",
            "[nan] [nan]\n",
            "[nan] [nan]\n",
            "[nan] [nan]\n",
            "[nan] [nan]\n",
            "[nan] [nan]\n",
            "[nan] [nan]\n",
            "[nan] [nan]\n",
            "[nan] [nan]\n",
            "[nan] [nan]\n",
            "[nan] [nan]\n",
            "[nan] [nan]\n",
            "[nan] [nan]\n",
            "[nan] [nan]\n",
            "[nan] [nan]\n",
            "[nan] [nan]\n",
            "[nan] [nan]\n",
            "[nan] [nan]\n",
            "[nan] [nan]\n",
            "[nan] [nan]\n",
            "[nan] [nan]\n",
            "[nan] [nan]\n",
            "[nan] [nan]\n",
            "[nan] [nan]\n",
            "[nan] [nan]\n",
            "[nan] [nan]\n",
            "[nan] [nan]\n",
            "[nan] [nan]\n",
            "[nan] [nan]\n",
            "[nan] [nan]\n",
            "[nan] [nan]\n",
            "[nan] [nan]\n",
            "[nan] [nan]\n",
            "[nan] [nan]\n",
            "[nan] [nan]\n",
            "[nan] [nan]\n",
            "[nan] [nan]\n",
            "[nan] [nan]\n",
            "[nan] [nan]\n",
            "[nan] [nan]\n",
            "[nan] [nan]\n",
            "[nan] [nan]\n",
            "[nan] [nan]\n",
            "[nan] [nan]\n",
            "[nan] [nan]\n",
            "[nan] [nan]\n",
            "[nan] [nan]\n",
            "[nan] [nan]\n",
            "[nan] [nan]\n",
            "[nan] [nan]\n",
            "[nan] [nan]\n",
            "[nan] [nan]\n",
            "[nan] [nan]\n",
            "[nan] [nan]\n",
            "[nan] [nan]\n",
            "[nan] [nan]\n",
            "[nan] [nan]\n",
            "[nan] [nan]\n",
            "[nan] [nan]\n",
            "[nan] [nan]\n",
            "[nan] [nan]\n"
          ]
        },
        {
          "output_type": "stream",
          "name": "stderr",
          "text": [
            "/usr/local/lib/python3.7/dist-packages/ipykernel_launcher.py:5: RuntimeWarning: overflow encountered in multiply\n",
            "  \"\"\"\n",
            "/usr/local/lib/python3.7/dist-packages/ipykernel_launcher.py:7: RuntimeWarning: invalid value encountered in subtract\n",
            "  import sys\n",
            "/usr/local/lib/python3.7/dist-packages/ipykernel_launcher.py:8: RuntimeWarning: invalid value encountered in subtract\n",
            "  \n"
          ]
        }
      ]
    }
  ],
  "metadata": {
    "colab": {
      "provenance": [],
      "collapsed_sections": [],
      "authorship_tag": "ABX9TyOflQrN44fPuHhaTdivpTqG",
      "include_colab_link": true
    },
    "kernelspec": {
      "display_name": "Python 3",
      "name": "python3"
    },
    "language_info": {
      "name": "python"
    }
  },
  "nbformat": 4,
  "nbformat_minor": 0
}