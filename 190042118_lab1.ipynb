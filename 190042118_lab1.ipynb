{
  "cells": [
    {
      "cell_type": "markdown",
      "metadata": {
        "id": "view-in-github",
        "colab_type": "text"
      },
      "source": [
        "<a href=\"https://colab.research.google.com/github/Abonty18/ML-lab/blob/main/190042118_lab1.ipynb\" target=\"_parent\"><img src=\"https://colab.research.google.com/assets/colab-badge.svg\" alt=\"Open In Colab\"/></a>"
      ]
    },
    {
      "cell_type": "markdown",
      "metadata": {
        "id": "cS6iHJL9Xle0"
      },
      "source": [
        "**Task-1**"
      ]
    },
    {
      "cell_type": "code",
      "execution_count": null,
      "metadata": {
        "colab": {
          "base_uri": "https://localhost:8080/"
        },
        "id": "YYbAilFFXkU9",
        "outputId": "c5b83a3a-c56d-4abe-f577-07ef13225835"
      },
      "outputs": [
        {
          "name": "stdout",
          "output_type": "stream",
          "text": [
            "[12 15  0  3  3  7  9  4  6 12]\n"
          ]
        }
      ],
      "source": [
        "import numpy as np\n",
        "np.random.seed(0)\n",
        "A = np.random.randint(17,size=(10))\n",
        "print(A)"
      ]
    },
    {
      "cell_type": "markdown",
      "metadata": {
        "id": "oln2X1o8Yv28"
      },
      "source": [
        "**Task-2**"
      ]
    },
    {
      "cell_type": "code",
      "execution_count": null,
      "metadata": {
        "colab": {
          "base_uri": "https://localhost:8080/"
        },
        "id": "oCqv62-8YupZ",
        "outputId": "cefd40c9-0012-43fc-b517-f370af9a7e19"
      },
      "outputs": [
        {
          "name": "stdout",
          "output_type": "stream",
          "text": [
            "[[44 47 64 67 67  9]\n",
            " [21 36 70 12 58 65]\n",
            " [39 46 37 25 77 72]\n",
            " [ 9 20 69 79 47 64]\n",
            " [49 29 19 19 14 39]\n",
            " [32 65  9 57 32 31]\n",
            " [74 23 35 75 55 28]]\n",
            "[[44 47 64 67 67  9 21 36 70 12 58 65 39 46]\n",
            " [37 25 77 72  9 20 69 79 47 64 49 29 19 19]\n",
            " [14 39 32 65  9 57 32 31 74 23 35 75 55 28]]\n"
          ]
        }
      ],
      "source": [
        "np.random.seed(0)\n",
        "A = np.random.randint(80,size=(7,6))\n",
        "\n",
        "print(A)\n",
        "newA=A.reshape(3,14)\n",
        "print(newA)"
      ]
    },
    {
      "cell_type": "markdown",
      "metadata": {
        "id": "e-zdytJNdEvg"
      },
      "source": [
        "**Task-3**"
      ]
    },
    {
      "cell_type": "code",
      "execution_count": null,
      "metadata": {
        "colab": {
          "base_uri": "https://localhost:8080/"
        },
        "id": "A8Sq3K21dM8q",
        "outputId": "377ff0c4-34b4-45f8-a27f-47a4406aa5ce"
      },
      "outputs": [
        {
          "name": "stdout",
          "output_type": "stream",
          "text": [
            "[1 3 5 7 9]\n"
          ]
        }
      ],
      "source": [
        "array = np.array([0,1,2,3,4,5,6,7,8,9])\n",
        "odd=array[array % 2 == 1]\n",
        "print(odd)\n"
      ]
    },
    {
      "cell_type": "markdown",
      "metadata": {
        "id": "Z5KPid4Hd0yP"
      },
      "source": [
        "**Task-4**"
      ]
    },
    {
      "cell_type": "code",
      "execution_count": null,
      "metadata": {
        "colab": {
          "base_uri": "https://localhost:8080/"
        },
        "id": "Q_UwXM_Md70B",
        "outputId": "cd527984-c2b2-4eab-d609-b70c1fecdc96"
      },
      "outputs": [
        {
          "name": "stdout",
          "output_type": "stream",
          "text": [
            "[ 0 -1  2 -1  4 -1  6 -1  8 -1]\n"
          ]
        }
      ],
      "source": [
        "array[odd] = -1 \n",
        "print(array)"
      ]
    },
    {
      "cell_type": "markdown",
      "metadata": {
        "id": "ZL9elpIIemd3"
      },
      "source": [
        "**Task-5**"
      ]
    },
    {
      "cell_type": "code",
      "execution_count": null,
      "metadata": {
        "colab": {
          "base_uri": "https://localhost:8080/"
        },
        "id": "FSfqMwbieo-H",
        "outputId": "b8bd19ae-7cf4-4ab9-f358-1b284342fc5c"
      },
      "outputs": [
        {
          "name": "stdout",
          "output_type": "stream",
          "text": [
            "[1 3 5 7 9]\n",
            "[ 0 -1  2 -1  4 -1  6 -1  8 -1]\n",
            "[0 1 2 3 4 5 6 7 8 9]\n"
          ]
        }
      ],
      "source": [
        "array = np.array([0,1,2,3,4,5,6,7,8,9])\n",
        "arr = array.copy()\n",
        "odd=array[array % 2 == 1]\n",
        "print(odd)\n",
        "array[odd] = -1 \n",
        "print(array)\n",
        "print(arr)\n",
        "\n"
      ]
    },
    {
      "cell_type": "markdown",
      "metadata": {
        "id": "P3JBoliHf5H0"
      },
      "source": [
        "**Task-6**"
      ]
    },
    {
      "cell_type": "code",
      "execution_count": null,
      "metadata": {
        "colab": {
          "base_uri": "https://localhost:8080/"
        },
        "id": "y_zGRy-_f_zR",
        "outputId": "1c3c04db-e5c5-4138-a9c3-7f0c864b7781"
      },
      "outputs": [
        {
          "name": "stdout",
          "output_type": "stream",
          "text": [
            "[1, 3, 5, 7]\n"
          ]
        }
      ],
      "source": [
        "a = np.array([1,2,3,2,3,4,3,4,5,6])\n",
        "b = np.array([7,2,10,2,7,4,9,4,9,8])\n",
        "print([key for key, val in enumerate(a) if val in set(b)])"
      ]
    },
    {
      "cell_type": "markdown",
      "metadata": {
        "id": "6ydL1IjLgjQb"
      },
      "source": [
        "**Task-7**"
      ]
    },
    {
      "cell_type": "code",
      "execution_count": null,
      "metadata": {
        "colab": {
          "base_uri": "https://localhost:8080/"
        },
        "id": "9-PvIOOQimQe",
        "outputId": "7153c72b-c9ea-47b2-e499-58b12bcf527b"
      },
      "outputs": [
        {
          "name": "stdout",
          "output_type": "stream",
          "text": [
            "(array([1, 3, 4]),)\n",
            "[ 6  9 10]\n"
          ]
        }
      ],
      "source": [
        "a = np.array([2, 6, 1, 9, 10, 3, 27])\n",
        "indices = np.where((a>= 5) & (a<=10))\n",
        "print(indices)\n",
        "print(a[indices])"
      ]
    },
    {
      "cell_type": "markdown",
      "metadata": {
        "id": "Np_GMPpKjSiG"
      },
      "source": [
        "**Task-8**"
      ]
    },
    {
      "cell_type": "code",
      "execution_count": null,
      "metadata": {
        "colab": {
          "base_uri": "https://localhost:8080/"
        },
        "id": "Avav8wOujVyr",
        "outputId": "f87c8f64-6ace-45a7-b31a-0660845d7117"
      },
      "outputs": [
        {
          "name": "stdout",
          "output_type": "stream",
          "text": [
            "[0. 0. 0. 0. 0. 0. 0. 0. 0. 0.]\n",
            "[[[0. 0. 0. 0. 0. 0. 0. 0. 0. 0.]]]\n",
            "[1. 1. 1. 1. 1. 1. 1. 1. 1. 1.]\n",
            "[[[1. 1. 1. 1. 1. 1. 1. 1. 1. 1.]]]\n"
          ]
        },
        {
          "data": {
            "text/plain": [
              "array([[[0., 0., 0., 0., 0., 0., 0., 0., 0., 0.]],\n",
              "\n",
              "       [[1., 1., 1., 1., 1., 1., 1., 1., 1., 1.]]])"
            ]
          },
          "execution_count": 44,
          "metadata": {},
          "output_type": "execute_result"
        }
      ],
      "source": [
        "a = np.zeros((10))\n",
        "print(a)\n",
        "y = np.expand_dims(a, axis=(0, 1))\n",
        "print(y)\n",
        "b = np.ones((10))\n",
        "print(b)\n",
        "z = np.expand_dims(b, axis=(0, 1))\n",
        "print(z)\n",
        "\n",
        "np. concatenate ([y,z])\n"
      ]
    },
    {
      "cell_type": "markdown",
      "metadata": {
        "id": "dGFE-ge9mxfF"
      },
      "source": [
        "**Task-9**"
      ]
    },
    {
      "cell_type": "code",
      "execution_count": null,
      "metadata": {
        "colab": {
          "background_save": true
        },
        "id": "31bcor24m02V",
        "outputId": "5e13e0db-e1d2-4503-defe-99b3a05c7afd"
      },
      "outputs": [
        {
          "name": "stdout",
          "output_type": "stream",
          "text": [
            "Original array: \n",
            "[[0.38344152 0.79172504 0.52889492 0.56804456]\n",
            " [0.92559664 0.07103606 0.0871293  0.0202184 ]\n",
            " [0.83261985 0.77815675 0.87001215 0.97861834]\n",
            " [0.79915856 0.46147936 0.78052918 0.11827443]\n",
            " [0.63992102 0.14335329 0.94466892 0.52184832]]\n"
          ]
        }
      ],
      "source": [
        "x = np.random.rand(5, 4)\n",
        "print(\"Original array: \")\n",
        "print(x)"
      ]
    },
    {
      "cell_type": "markdown",
      "metadata": {
        "id": "HO2uc7olnwCU"
      },
      "source": []
    }
  ],
  "metadata": {
    "colab": {
      "collapsed_sections": [],
      "name": "190042118_lab1.ipynb",
      "provenance": [],
      "authorship_tag": "ABX9TyM0q39Ke3nCOyP8xmJTFcY9",
      "include_colab_link": true
    },
    "kernelspec": {
      "display_name": "Python 3",
      "name": "python3"
    },
    "language_info": {
      "name": "python"
    }
  },
  "nbformat": 4,
  "nbformat_minor": 0
}